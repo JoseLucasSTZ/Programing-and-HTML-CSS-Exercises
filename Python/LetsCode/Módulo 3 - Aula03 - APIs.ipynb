{
 "cells": [
  {
   "cell_type": "code",
   "execution_count": 1,
   "id": "c1a136ce",
   "metadata": {},
   "outputs": [
    {
     "name": "stdout",
     "output_type": "stream",
     "text": [
      "Requirement already satisfied: requests in e:\\progamas\\lib\\site-packages (2.27.1)\n",
      "Requirement already satisfied: certifi>=2017.4.17 in e:\\progamas\\lib\\site-packages (from requests) (2021.10.8)\n",
      "Requirement already satisfied: charset-normalizer~=2.0.0 in e:\\progamas\\lib\\site-packages (from requests) (2.0.4)\n",
      "Requirement already satisfied: urllib3<1.27,>=1.21.1 in e:\\progamas\\lib\\site-packages (from requests) (1.26.9)\n",
      "Requirement already satisfied: idna<4,>=2.5 in e:\\progamas\\lib\\site-packages (from requests) (3.3)\n"
     ]
    }
   ],
   "source": [
    "!pip install requests"
   ]
  },
  {
   "cell_type": "code",
   "execution_count": null,
   "id": "199f7758",
   "metadata": {},
   "outputs": [],
   "source": [
    "import requests"
   ]
  },
  {
   "cell_type": "code",
   "execution_count": null,
   "id": "3da854b9",
   "metadata": {},
   "outputs": [],
   "source": [
    "url =\"https://v6.exchangerate-api.com/v6/f53c8518ecbc5721bf2ad442/latest/USD\"\n",
    "\n",
    "req = requests.get(url)\n",
    "\n",
    "print(req.status_code)"
   ]
  },
  {
   "cell_type": "code",
   "execution_count": 7,
   "id": "4014177a",
   "metadata": {},
   "outputs": [
    {
     "name": "stdout",
     "output_type": "stream",
     "text": [
      "{'result': 'success', 'documentation': 'https://www.exchangerate-api.com/docs', 'terms_of_use': 'https://www.exchangerate-api.com/terms', 'time_last_update_unix': 1663372802, 'time_last_update_utc': 'Sat, 17 Sep 2022 00:00:02 +0000', 'time_next_update_unix': 1663459202, 'time_next_update_utc': 'Sun, 18 Sep 2022 00:00:02 +0000', 'base_code': 'USD', 'conversion_rates': {'USD': 1, 'AED': 3.6725, 'AFN': 87.9155, 'ALL': 116.8492, 'AMD': 415.9037, 'ANG': 1.79, 'AOA': 432.558, 'ARS': 142.1583, 'AUD': 1.491, 'AWG': 1.79, 'AZN': 1.6945, 'BAM': 1.9566, 'BBD': 2.0, 'BDT': 102.866, 'BGN': 1.9577, 'BHD': 0.376, 'BIF': 2034.6031, 'BMD': 1.0, 'BND': 1.4067, 'BOB': 6.89, 'BRL': 5.2606, 'BSD': 1.0, 'BTN': 79.6937, 'BWP': 13.1336, 'BYN': 2.6194, 'BZD': 2.0, 'CAD': 1.3273, 'CDF': 2028.0393, 'CHF': 0.9639, 'CLP': 923.4019, 'CNY': 7.0012, 'COP': 4386.2771, 'CRC': 633.8136, 'CUP': 24.0, 'CVE': 110.3081, 'CZK': 24.5156, 'DJF': 177.721, 'DKK': 7.4633, 'DOP': 53.2081, 'DZD': 140.6573, 'EGP': 19.372, 'ERN': 15.0, 'ETB': 52.6478, 'EUR': 1.0004, 'FJD': 2.2404, 'FKP': 0.8767, 'FOK': 7.4633, 'GBP': 0.8767, 'GEL': 2.8226, 'GGP': 0.8767, 'GHS': 10.3082, 'GIP': 0.8767, 'GMD': 55.4131, 'GNF': 8596.1289, 'GTQ': 7.7634, 'GYD': 207.8327, 'HKD': 7.8526, 'HNL': 24.7018, 'HRK': 7.5374, 'HTG': 117.4306, 'HUF': 404.5762, 'IDR': 14915.54, 'ILS': 3.4313, 'IMP': 0.8767, 'INR': 79.6949, 'IQD': 1449.9494, 'IRR': 41965.3057, 'ISK': 138.846, 'JEP': 0.8767, 'JMD': 152.019, 'JOD': 0.709, 'JPY': 143.109, 'KES': 121.1465, 'KGS': 81.6784, 'KHR': 4081.2925, 'KID': 1.4909, 'KMF': 492.16, 'KRW': 1386.7547, 'KWD': 0.2996, 'KYD': 0.8333, 'KZT': 475.0798, 'LAK': 18160.6166, 'LBP': 1507.5, 'LKR': 358.7585, 'LRD': 153.2007, 'LSL': 17.6126, 'LYD': 4.8911, 'MAD': 10.7278, 'MDL': 19.3534, 'MGA': 4127.4201, 'MKD': 61.4853, 'MMK': 2799.6646, 'MNT': 3219.1265, 'MOP': 8.0882, 'MRU': 37.5479, 'MUR': 44.7888, 'MVR': 15.4007, 'MWK': 1032.7917, 'MXN': 20.0824, 'MYR': 4.5225, 'MZN': 64.2029, 'NAD': 17.6126, 'NGN': 426.4067, 'NIO': 35.9992, 'NOK': 10.2192, 'NPR': 127.5099, 'NZD': 1.673, 'OMR': 0.3845, 'PAB': 1.0, 'PEN': 3.8772, 'PGK': 3.5069, 'PHP': 57.3082, 'PKR': 233.4695, 'PLN': 4.7103, 'PYG': 6921.9021, 'QAR': 3.64, 'RON': 4.9199, 'RSD': 117.2801, 'RUB': 60.2014, 'RWF': 1065.2234, 'SAR': 3.75, 'SBD': 8.028, 'SCR': 13.0137, 'SDG': 569.5855, 'SEK': 10.7683, 'SGD': 1.4067, 'SHP': 0.8767, 'SLE': 14.3532, 'SLL': 14353.1693, 'SOS': 564.7318, 'SRD': 26.8353, 'SSP': 645.439, 'STN': 24.5096, 'SYP': 2484.5143, 'SZL': 17.6126, 'THB': 36.9734, 'TJS': 10.2305, 'TMT': 3.4974, 'TND': 2.8904, 'TOP': 2.365, 'TRY': 18.2286, 'TTD': 6.7568, 'TVD': 1.4909, 'TWD': 31.2243, 'TZS': 2338.6086, 'UAH': 37.2259, 'UGX': 3810.7854, 'UYU': 40.6131, 'UZS': 10938.6345, 'VES': 8.0508, 'VND': 23642.024, 'VUV': 117.053, 'WST': 2.6672, 'XAF': 656.2134, 'XCD': 2.7, 'XDR': 0.7739, 'XOF': 656.2134, 'XPF': 119.3786, 'YER': 249.084, 'ZAR': 17.6128, 'ZMW': 15.6094, 'ZWL': 603.7373}}\n"
     ]
    }
   ],
   "source": [
    "dados = req.json()\n",
    "print(dados)"
   ]
  },
  {
   "cell_type": "code",
   "execution_count": 13,
   "id": "411fc710",
   "metadata": {},
   "outputs": [
    {
     "name": "stdout",
     "output_type": "stream",
     "text": [
      "Informe o valor em R$ a converter para U$\n",
      "10\n",
      "5.2606\n",
      "Seu valor de 10.0 R$ vale 1.90 em US$\n"
     ]
    }
   ],
   "source": [
    "valor_reais = float(input('Informe o valor em R$ a converter para U$\\n'))\n",
    "cotacao = dados['conversion_rates']['BRL']\n",
    "print(cotacao)\n",
    "print(f'Seu valor de {valor_reais} R$ vale {(valor_reais/cotacao):.2f} em US$')"
   ]
  },
  {
   "cell_type": "code",
   "execution_count": null,
   "id": "f3fa12d2",
   "metadata": {},
   "outputs": [],
   "source": []
  }
 ],
 "metadata": {
  "kernelspec": {
   "display_name": "Python 3 (ipykernel)",
   "language": "python",
   "name": "python3"
  },
  "language_info": {
   "codemirror_mode": {
    "name": "ipython",
    "version": 3
   },
   "file_extension": ".py",
   "mimetype": "text/x-python",
   "name": "python",
   "nbconvert_exporter": "python",
   "pygments_lexer": "ipython3",
   "version": "3.9.12"
  }
 },
 "nbformat": 4,
 "nbformat_minor": 5
}
