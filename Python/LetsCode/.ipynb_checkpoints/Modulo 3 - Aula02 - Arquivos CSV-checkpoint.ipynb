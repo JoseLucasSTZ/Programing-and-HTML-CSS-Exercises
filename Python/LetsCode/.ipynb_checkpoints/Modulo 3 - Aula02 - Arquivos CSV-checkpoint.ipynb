{
 "cells": [
  {
   "cell_type": "code",
   "execution_count": 25,
   "id": "4330e4c9",
   "metadata": {},
   "outputs": [],
   "source": [
    "import csv"
   ]
  },
  {
   "cell_type": "code",
   "execution_count": 8,
   "id": "56f08b36",
   "metadata": {},
   "outputs": [
    {
     "name": "stdout",
     "output_type": "stream",
     "text": [
      "['RA', 'Nome', 'Frequencia', 'Prova_1', 'Prova_2', 'Prova_3', 'Prova_4']\n",
      "['110201', 'Antonio Carlos', '20', '6.5', '8.5', '7', '6']\n",
      "['110212', 'Ana Beatriz', '20', '7', '7', '7', '8']\n",
      "['110218', 'Carlos Vernes', '17', '7', '7', '7', '7']\n",
      "['110307', 'Francisco Cunha', '20', '9', '8.5', '8.5', '10']\n",
      "['110275', 'Sandra Rosa', '15', '6.5', '7.5', '7', '7']\n",
      "['110281', 'Juliana Arruda', '18', '7.5', '7', '7.5', '8']\n",
      "['110301', 'Joao Galo', '20', '5', '6.5', '7', '5']\n",
      "['110263', 'JosÃ© Valente', '20', '10', '10', '10', '10']\n",
      "['110271', 'Maria Ferreira', '19', '9.5', '8', '7', '10']\n",
      "['110236', 'Adriana Tavares', '20', '8', '8', '8', '8']\n"
     ]
    }
   ],
   "source": [
    "with open('Documentos/alunosCSV.csv', 'r') as arquivo_csv:\n",
    "    leitor = csv.reader(arquivo_csv)\n",
    "    for linha in leitor:\n",
    "        print(linha)"
   ]
  },
  {
   "cell_type": "code",
   "execution_count": 12,
   "id": "89bb797f",
   "metadata": {},
   "outputs": [
    {
     "name": "stdout",
     "output_type": "stream",
     "text": [
      "['110201', 'Antonio Carlos', '20', '6.5', '8.5', '7', '6']\n",
      "['110212', 'Ana Beatriz', '20', '7', '7', '7', '8']\n",
      "['110307', 'Francisco Cunha', '20', '9', '8.5', '8.5', '10']\n",
      "['110301', 'Joao Galo', '20', '5', '6.5', '7', '5']\n",
      "['110263', 'JosÃ© Valente', '20', '10', '10', '10', '10']\n",
      "['110236', 'Adriana Tavares', '20', '8', '8', '8', '8']\n"
     ]
    }
   ],
   "source": [
    "with open('Documentos/alunosCSV.csv', 'r') as arquivo_csv:\n",
    "    leitor = csv.reader(arquivo_csv)\n",
    "    header = next(leitor)\n",
    "    for linha in leitor:\n",
    "        if float(linha[2]) > 19:\n",
    "            print(linha)"
   ]
  },
  {
   "cell_type": "code",
   "execution_count": 24,
   "id": "453b64af",
   "metadata": {},
   "outputs": [
    {
     "name": "stdout",
     "output_type": "stream",
     "text": [
      "RA,Nome,Frequencia,Prova_1,Prova_2,Prova_3,Prova_4\n",
      "110201,Antonio Carlos,20,6.5,8.5,7,6\n",
      "110212,Ana Beatriz,20,7,7,7,8\n",
      "110218,Carlos Vernes,17,7,7,7,7\n",
      "110307,Francisco Cunha,20,9,8.5,8.5,10\n",
      "110275,Sandra Rosa,15,6.5,7.5,7,7\n",
      "110281,Juliana Arruda,18,7.5,7,7.5,8\n",
      "110301,Joao Galo,20,5,6.5,7,5\n",
      "110263,JosÃ© Valente,20,10,10,10,10\n",
      "110271,Maria Ferreira,19,9.5,8,7,10\n",
      "110236,Adriana Tavares,20,8,8,8,8\n",
      "\n",
      "['RA,Nome,Frequencia,Prova_1,Prova_2,Prova_3,Prova_4', '110201,Antonio Carlos,20,6.5,8.5,7,6', '110212,Ana Beatriz,20,7,7,7,8', '110218,Carlos Vernes,17,7,7,7,7', '110307,Francisco Cunha,20,9,8.5,8.5,10', '110275,Sandra Rosa,15,6.5,7.5,7,7', '110281,Juliana Arruda,18,7.5,7,7.5,8', '110301,Joao Galo,20,5,6.5,7,5', '110263,JosÃ© Valente,20,10,10,10,10', '110271,Maria Ferreira,19,9.5,8,7,10', '110236,Adriana Tavares,20,8,8,8,8', '']\n",
      " \n",
      "['RA', 'Nome', 'Frequencia', 'Prova_1', 'Prova_2', 'Prova_3', 'Prova_4']\n",
      "['110201', 'Antonio Carlos', '20', '6.5', '8.5', '7', '6']\n",
      "['110212', 'Ana Beatriz', '20', '7', '7', '7', '8']\n",
      "['110218', 'Carlos Vernes', '17', '7', '7', '7', '7']\n",
      "['110307', 'Francisco Cunha', '20', '9', '8.5', '8.5', '10']\n",
      "['110275', 'Sandra Rosa', '15', '6.5', '7.5', '7', '7']\n",
      "['110281', 'Juliana Arruda', '18', '7.5', '7', '7.5', '8']\n",
      "['110301', 'Joao Galo', '20', '5', '6.5', '7', '5']\n",
      "['110263', 'JosÃ© Valente', '20', '10', '10', '10', '10']\n",
      "['110271', 'Maria Ferreira', '19', '9.5', '8', '7', '10']\n",
      "['110236', 'Adriana Tavares', '20', '8', '8', '8', '8']\n",
      "['']\n"
     ]
    }
   ],
   "source": [
    "with open('Documentos/alunosCSV.csv', 'r') as csv_file:\n",
    "    linhas = csv_file.read()\n",
    "    print(linhas)\n",
    "    linhas = linhas.split('\\n')\n",
    "    print(linhas)\n",
    "    print(' ')\n",
    "    for linha in linhas:\n",
    "        linha = linha.split(\",\")\n",
    "        print(linha)"
   ]
  },
  {
   "cell_type": "code",
   "execution_count": 28,
   "id": "fdc64c90",
   "metadata": {},
   "outputs": [],
   "source": [
    "with open('users.csv', 'w', newline='') as arquivo_users:\n",
    "    escritor = csv.writer(arquivo_users)\n",
    "    escritor.writerow(['nome', 'sobrenome', 'email', 'genero'])\n",
    "    escritor.writerow(['Pietro', 'Ribeiro', 'pietro@email.com', 'Masculino'])"
   ]
  },
  {
   "cell_type": "code",
   "execution_count": 30,
   "id": "ae80fa6c",
   "metadata": {},
   "outputs": [
    {
     "name": "stdout",
     "output_type": "stream",
     "text": [
      "O que deseja fazer? \n",
      "1 - Cadastrar - Sair\n",
      "1\n",
      "Qual seu nome?josé\n",
      "Qual seu sobrenomestein\n",
      "O que deseja fazer? \n",
      "1 - Cadastrar - Sair\n",
      "0\n",
      "[['josé', 'stein']]\n",
      "['nome', 'sobrenome']\n",
      "['josé', 'stein']\n"
     ]
    }
   ],
   "source": [
    "header = ['nome', 'sobrenome']\n",
    "dados = []\n",
    "opt = input('O que deseja fazer? \\n1 - Cadastrar\\n0 - Sair\\n')\n",
    "while opt !='0':\n",
    "    nome = input('Qual seu nome?')\n",
    "    sobrenome = input('Qual seu sobrenome')\n",
    "    dados.append([nome, sobrenome])\n",
    "    opt = input('O que deseja fazer? \\n1 - Cadastrar\\0 - Sair\\n')\n",
    "print(dados)\n",
    "\n",
    "with open('users.csv', 'w', newline='') as arquivo_csv:\n",
    "    writer = csv.writer(arquivo_csv)\n",
    "    writer.writerow(header)\n",
    "    writer.writerows(dados)\n",
    "    \n",
    "with open('users.csv', 'r') as csv_file:\n",
    "    csv_reader = csv.reader(csv_file, delimiter=',')\n",
    "    for row in csv_reader:\n",
    "        print(row)\n",
    "    "
   ]
  },
  {
   "cell_type": "code",
   "execution_count": null,
   "id": "1f59f8d8",
   "metadata": {},
   "outputs": [],
   "source": []
  }
 ],
 "metadata": {
  "kernelspec": {
   "display_name": "Python 3 (ipykernel)",
   "language": "python",
   "name": "python3"
  },
  "language_info": {
   "codemirror_mode": {
    "name": "ipython",
    "version": 3
   },
   "file_extension": ".py",
   "mimetype": "text/x-python",
   "name": "python",
   "nbconvert_exporter": "python",
   "pygments_lexer": "ipython3",
   "version": "3.9.12"
  }
 },
 "nbformat": 4,
 "nbformat_minor": 5
}
