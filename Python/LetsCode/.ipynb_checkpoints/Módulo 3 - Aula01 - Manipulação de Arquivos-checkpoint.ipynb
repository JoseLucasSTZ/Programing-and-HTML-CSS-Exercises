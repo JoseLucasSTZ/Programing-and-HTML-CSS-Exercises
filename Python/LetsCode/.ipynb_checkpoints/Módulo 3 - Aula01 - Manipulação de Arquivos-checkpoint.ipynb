{
 "cells": [
  {
   "cell_type": "code",
   "execution_count": 10,
   "id": "36c89386",
   "metadata": {},
   "outputs": [
    {
     "name": "stdout",
     "output_type": "stream",
     "text": [
      "https://jlucastz.blogspot.com/2022/09/por-que-os-prazos-sao-importantes-para-o-direito.html\n",
      "\n",
      "POR QUE PRAZOS SÃƒO IMPORTANTES PARA O DIREITO?\n",
      "\n",
      "HÃ¡ um ditado popular muito comum e importante: o Ã³bvio deve ser dito. Os prazos devem ser respeitados porque sÃ£o compromissos! No direito eles adquirem importÃ¢ncia porque o silÃªncio tambÃ©m tem efeitos jurÃ­dicos, tal como na ausÃªncia de contestaÃ§Ã£o. \n",
      "Imagine a seguinte situaÃ§Ã£o: alguÃ©m resolve processÃ¡-lo por uma mentira e vocÃª nÃ£o apresenta contestaÃ§Ã£o. Nesse caso o artigo 344, do CÃ³digo de Processo Civil (CPC), determina que vocÃª serÃ¡ considerado revel e as alegaÃ§Ãµes formuladas pelo autor presumir-se-Ã£o verdadeiras.\n",
      "AlÃ©m disso, segundo o art. 223, tambÃ©m do CÃ³digo de Processo Civil, os atos precluem. Ou seja, passado o prazo do ato processual, extingue-se o direito a pratica-lo ou muda-lo. \n",
      "Devo esclarecer que hÃ¡ exceÃ§Ãµes tanto para o art. 344, quanto para o art. 223, para o qual se ressalva a possibilidade de provar que o ato nÃ£o foi praticado por justa. Como a intenÃ§Ã£o Ã© descomplicar, vamos deixar esse assunto para uma outra postagem.\n",
      "Portanto, via de regra, Ã© uma pÃ©ssima ideia nÃ£o contestar uma petiÃ§Ã£o, muito menos perder o prazo para praticar um ato, porque o direito nÃ£o socorre aos que dormem.\n",
      "\n",
      " Art. 344. Se o rÃ©u nÃ£o contestar a aÃ§Ã£o, serÃ¡ considerado revel e presumir-se-Ã£o verdadeiras as alegaÃ§Ãµes de fato formuladas pelo autor.\n",
      " Art. 345. A revelia nÃ£o produz o efeito mencionado no art. 344 se:\n",
      "I - havendo pluralidade de rÃ©us, algum deles contestar a aÃ§Ã£o;\n",
      "II - o litÃ­gio versar sobre direitos indisponÃ­veis;\n",
      "III - a petiÃ§Ã£o inicial nÃ£o estiver acompanhada de instrumento que a lei considere indispensÃ¡vel Ã  prova do ato;\n",
      "IV - as alegaÃ§Ãµes de fato formuladas pelo autor forem inverossÃ­meis ou estiverem em contradiÃ§Ã£o com prova constante dos autos.\n",
      "\n",
      " Art. 223. Decorrido o prazo, extingue-se o direito de praticar ou de emendar o ato processual, independentemente de declaraÃ§Ã£o judicial, ficando assegurado, porÃ©m, Ã  parte provar que nÃ£o o realizou por justa causa.\n",
      "Â§ 1Âº Considera-se justa causa o evento alheio Ã  vontade da parte e que a impediu de praticar o ato por si ou por mandatÃ¡rio.\n",
      "Â§ 2Âº Verificada a justa causa, o juiz permitirÃ¡ Ã  parte a prÃ¡tica do ato no prazo que lhe assinar.\n",
      "\n",
      "\n",
      "\n"
     ]
    }
   ],
   "source": [
    "arquivo = open('Documentos/meuPost.txt', 'r')\n",
    "texto = arquivo.read()\n",
    "print(texto)\n",
    "arquivo.close()"
   ]
  },
  {
   "cell_type": "code",
   "execution_count": 21,
   "id": "a3f5a68e",
   "metadata": {},
   "outputs": [
    {
     "name": "stdout",
     "output_type": "stream",
     "text": [
      "https://jlucastz.blogspot.com/2022/09/por-que-os-prazos-sao-importantes-para-o-direito.html\n",
      "\n",
      "POR QUE PRAZOS SÃƒO IMPORTANTES PARA O DIREITO?\n",
      "\n",
      "HÃ¡ um ditado popular muito comum e importante: o Ã³bvio deve ser dito. Os prazos devem ser respeitados porque sÃ£o compromissos! No direito eles adquirem importÃ¢ncia porque o silÃªncio tambÃ©m tem efeitos jurÃ­dicos, tal como na ausÃªncia de contestaÃ§Ã£o. \n",
      "Imagine a seguinte situaÃ§Ã£o: alguÃ©m resolve processÃ¡-lo por uma mentira e vocÃª nÃ£o apresenta contestaÃ§Ã£o. Nesse caso o artigo 344, do CÃ³digo de Processo Civil (CPC), determina que vocÃª serÃ¡ considerado revel e as alegaÃ§Ãµes formuladas pelo autor presumir-se-Ã£o verdadeiras.\n",
      "AlÃ©m disso, segundo o art. 223, tambÃ©m do CÃ³digo de Processo Civil, os atos precluem. Ou seja, passado o prazo do ato processual, extingue-se o direito a pratica-lo ou muda-lo. \n",
      "Devo esclarecer que hÃ¡ exceÃ§Ãµes tanto para o art. 344, quanto para o art. 223, para o qual se ressalva a possibilidade de provar que o ato nÃ£o foi praticado por justa. Como a intenÃ§Ã£o Ã© descomplicar, vamos deixar esse assunto para uma outra postagem.\n",
      "Portanto, via de regra, Ã© uma pÃ©ssima ideia nÃ£o contestar uma petiÃ§Ã£o, muito menos perder o prazo para praticar um ato, porque o direito nÃ£o socorre aos que dormem.\n",
      "\n",
      " Art. 344. Se o rÃ©u nÃ£o contestar a aÃ§Ã£o, serÃ¡ considerado revel e presumir-se-Ã£o verdadeiras as alegaÃ§Ãµes de fato formuladas pelo autor.\n",
      " Art. 345. A revelia nÃ£o produz o efeito mencionado no art. 344 se:\n",
      "I - havendo pluralidade de rÃ©us, algum deles contestar a aÃ§Ã£o;\n",
      "II - o litÃ­gio versar sobre direitos indisponÃ­veis;\n",
      "III - a petiÃ§Ã£o inicial nÃ£o estiver acompanhada de instrumento que a lei considere indispensÃ¡vel Ã  prova do ato;\n",
      "IV - as alegaÃ§Ãµes de fato formuladas pelo autor forem inverossÃ­meis ou estiverem em contradiÃ§Ã£o com prova constante dos autos.\n",
      "\n",
      " Art. 223. Decorrido o prazo, extingue-se o direito de praticar ou de emendar o ato processual, independentemente de declaraÃ§Ã£o judicial, ficando assegurado, porÃ©m, Ã  parte provar que nÃ£o o realizou por justa causa.\n",
      "Â§ 1Âº Considera-se justa causa o evento alheio Ã  vontade da parte e que a impediu de praticar o ato por si ou por mandatÃ¡rio.\n",
      "Â§ 2Âº Verificada a justa causa, o juiz permitirÃ¡ Ã  parte a prÃ¡tica do ato no prazo que lhe assinar.\n",
      "\n",
      "\n"
     ]
    }
   ],
   "source": [
    "arquivo = open('Documentos/meuPost.txt', 'r')\n",
    "linha = arquivo.readline() # Usado para ler linha a linha\n",
    "#print(linha)\n",
    "while linha != '': # O readline possui uma característica de cursor. Ele armazena as linhas lidas e depois vai para próxima\n",
    "        print(linha, end='')#o end é um argumento da função, se não for colocado ao final é colocado um espaço\n",
    "        linha = arquivo.readline()\n",
    "arquivo.close()"
   ]
  },
  {
   "cell_type": "code",
   "execution_count": 24,
   "id": "4feb7b6e",
   "metadata": {},
   "outputs": [
    {
     "name": "stdout",
     "output_type": "stream",
     "text": [
      "https://jlucastz.blogspot.com/2022/09/por-que-os-prazos-sao-importantes-para-o-direito.html\n",
      "\n",
      "POR QUE PRAZOS SÃƒO IMPORTANTES PARA O DIREITO?\n",
      "\n",
      "HÃ¡ um ditado popular muito comum e importante: o Ã³bvio deve ser dito. Os prazos devem ser respeitados porque sÃ£o compromissos! No direito eles adquirem importÃ¢ncia porque o silÃªncio tambÃ©m tem efeitos jurÃ­dicos, tal como na ausÃªncia de contestaÃ§Ã£o. \n",
      "Imagine a seguinte situaÃ§Ã£o: alguÃ©m resolve processÃ¡-lo por uma mentira e vocÃª nÃ£o apresenta contestaÃ§Ã£o. Nesse caso o artigo 344, do CÃ³digo de Processo Civil (CPC), determina que vocÃª serÃ¡ considerado revel e as alegaÃ§Ãµes formuladas pelo autor presumir-se-Ã£o verdadeiras.\n",
      "AlÃ©m disso, segundo o art. 223, tambÃ©m do CÃ³digo de Processo Civil, os atos precluem. Ou seja, passado o prazo do ato processual, extingue-se o direito a pratica-lo ou muda-lo. \n",
      "Devo esclarecer que hÃ¡ exceÃ§Ãµes tanto para o art. 344, quanto para o art. 223, para o qual se ressalva a possibilidade de provar que o ato nÃ£o foi praticado por justa. Como a intenÃ§Ã£o Ã© descomplicar, vamos deixar esse assunto para uma outra postagem.\n",
      "Portanto, via de regra, Ã© uma pÃ©ssima ideia nÃ£o contestar uma petiÃ§Ã£o, muito menos perder o prazo para praticar um ato, porque o direito nÃ£o socorre aos que dormem.\n",
      "\n",
      " Art. 344. Se o rÃ©u nÃ£o contestar a aÃ§Ã£o, serÃ¡ considerado revel e presumir-se-Ã£o verdadeiras as alegaÃ§Ãµes de fato formuladas pelo autor.\n",
      " Art. 345. A revelia nÃ£o produz o efeito mencionado no art. 344 se:\n",
      "I - havendo pluralidade de rÃ©us, algum deles contestar a aÃ§Ã£o;\n",
      "II - o litÃ­gio versar sobre direitos indisponÃ­veis;\n",
      "III - a petiÃ§Ã£o inicial nÃ£o estiver acompanhada de instrumento que a lei considere indispensÃ¡vel Ã  prova do ato;\n",
      "IV - as alegaÃ§Ãµes de fato formuladas pelo autor forem inverossÃ­meis ou estiverem em contradiÃ§Ã£o com prova constante dos autos.\n",
      "\n",
      " Art. 223. Decorrido o prazo, extingue-se o direito de praticar ou de emendar o ato processual, independentemente de declaraÃ§Ã£o judicial, ficando assegurado, porÃ©m, Ã  parte provar que nÃ£o o realizou por justa causa.\n",
      "Â§ 1Âº Considera-se justa causa o evento alheio Ã  vontade da parte e que a impediu de praticar o ato por si ou por mandatÃ¡rio.\n",
      "Â§ 2Âº Verificada a justa causa, o juiz permitirÃ¡ Ã  parte a prÃ¡tica do ato no prazo que lhe assinar.\n",
      "\n",
      "\n",
      "\n"
     ]
    }
   ],
   "source": [
    "with open('Documentos/meuPost.txt', 'r') as arquivo: # o with é um bloco de código que facilita o fechamento de arquivos.\n",
    "    texto = arquivo.read()\n",
    "    print(texto)"
   ]
  },
  {
   "cell_type": "code",
   "execution_count": 25,
   "id": "9b76b291",
   "metadata": {},
   "outputs": [
    {
     "ename": "ValueError",
     "evalue": "I/O operation on closed file.",
     "output_type": "error",
     "traceback": [
      "\u001b[1;31m---------------------------------------------------------------------------\u001b[0m",
      "\u001b[1;31mValueError\u001b[0m                                Traceback (most recent call last)",
      "Input \u001b[1;32mIn [25]\u001b[0m, in \u001b[0;36m<cell line: 1>\u001b[1;34m()\u001b[0m\n\u001b[1;32m----> 1\u001b[0m \u001b[43marquivo\u001b[49m\u001b[38;5;241;43m.\u001b[39;49m\u001b[43mread\u001b[49m\u001b[43m(\u001b[49m\u001b[43m)\u001b[49m\n",
      "\u001b[1;31mValueError\u001b[0m: I/O operation on closed file."
     ]
    }
   ],
   "source": [
    "#arquivo.read() - Arquivo fechado"
   ]
  },
  {
   "cell_type": "code",
   "execution_count": 35,
   "id": "c3078399",
   "metadata": {},
   "outputs": [],
   "source": [
    "with open('testeArquivo.txt', 'w') as arquivo:\n",
    "    arquivo.write('linha teste via python\\n')\n",
    "    arquivo.write('linha teste via python')"
   ]
  },
  {
   "cell_type": "code",
   "execution_count": 36,
   "id": "0a92cbfb",
   "metadata": {},
   "outputs": [
    {
     "name": "stdout",
     "output_type": "stream",
     "text": [
      "linha teste via python\n",
      "linha teste via python\n"
     ]
    }
   ],
   "source": [
    "with open('testeArquivo.txt', 'r') as arquivo:\n",
    "    print(arquivo.read())"
   ]
  },
  {
   "cell_type": "code",
   "execution_count": null,
   "id": "32546004",
   "metadata": {},
   "outputs": [],
   "source": []
  }
 ],
 "metadata": {
  "kernelspec": {
   "display_name": "Python 3 (ipykernel)",
   "language": "python",
   "name": "python3"
  },
  "language_info": {
   "codemirror_mode": {
    "name": "ipython",
    "version": 3
   },
   "file_extension": ".py",
   "mimetype": "text/x-python",
   "name": "python",
   "nbconvert_exporter": "python",
   "pygments_lexer": "ipython3",
   "version": "3.9.12"
  }
 },
 "nbformat": 4,
 "nbformat_minor": 5
}
